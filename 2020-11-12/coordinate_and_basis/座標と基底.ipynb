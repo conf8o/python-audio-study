{
 "cells": [
  {
   "cell_type": "markdown",
   "metadata": {},
   "source": [
    "# 座標と基底と係数\n",
    "\n",
    "私たちが日常的に見る座標平面(直交座標系)は標準基底 $ \\{(1, 0), (0, 1)\\} $の線形包である。\n",
    "\n",
    "その平面で私たちがよく座標と呼ぶ任意の点$ (x, y) $の正体は標準基底の線形結合$ x(1, 0) + y(0, 1) $で示すことができる。\n",
    "\n",
    "ここでは座標を基底に基づいた位置として捉える。\n",
    "\n",
    "基底 $ \\{(a, b), (c, d)\\} $についての**座標**とは、基底の線形結合$ x(a, b) + y(c, d) $の**係数のベクトル** $ (x, y) $のことであると言える。\n",
    "\n",
    "$ x(a, b) + y(c, d) $の値は標準基底についての座標を示している。\n",
    "\n",
    "なお、線形結合は行列とベクトルの積として以下のように置き換えられる。\n",
    "\n",
    "$\n",
    "\\left(\n",
    "    \\begin{array}{cc}\n",
    "     a & c \\\\\n",
    "     b & d\n",
    "    \\end{array}\n",
    "\\right)\n",
    "\\left(\n",
    "    \\begin{array}{c}\n",
    "    x \\\\\n",
    "    y\n",
    "    \\end{array}\n",
    "\\right)\n",
    "$\n",
    "\n",
    "行列とベクトルの積をベクトル同士の内積で定義したものに馴染んでいるので本当に？と思ったが、式変形したら正しいことがわかる。\n",
    "\n",
    "$\n",
    "\\left(\n",
    "    \\begin{array}{cc}\n",
    "     a & c \\\\\n",
    "     b & d\n",
    "    \\end{array}\n",
    "\\right)\n",
    "\\left(\n",
    "    \\begin{array}{c}\n",
    "    x \\\\\n",
    "    y\n",
    "    \\end{array}\n",
    "\\right)\n",
    "= \\left(\n",
    "    \\begin{array}{cc} \n",
    "       ax + cy \\\\\n",
    "       bx + dy \n",
    "    \\end{array}\n",
    "  \\right )\n",
    "= \\left(\n",
    "    \\begin{array}{cc} \n",
    "       ax \\\\\n",
    "       bx\n",
    "    \\end{array}\n",
    "  \\right )\n",
    "  +\n",
    "  \\left(\n",
    "    \\begin{array}{cc} \n",
    "       cy \\\\\n",
    "       dy\n",
    "    \\end{array}\n",
    "  \\right )\n",
    "= x\\left(\n",
    "    \\begin{array}{cc} \n",
    "       a \\\\\n",
    "       b\n",
    "    \\end{array}\n",
    "  \\right )\n",
    "  +\n",
    "  y\\left(\n",
    "    \\begin{array}{cc} \n",
    "       c \\\\\n",
    "       d\n",
    "    \\end{array}\n",
    "  \\right )\n",
    "$"
   ]
  },
  {
   "cell_type": "markdown",
   "metadata": {},
   "source": [
    "## 例1 標準基底と座標\n",
    "\n",
    "基底 $ \\{(1, 0), (0, 1)\\} $から作られる座標平面は以下のように馴染みのあるイメージとなる。\n",
    "\n",
    "この基底についての座標として$(7, 4)$を取ってみた。※basis.pyで基底と座標を扱うクラスBasisを定義している。"
   ]
  },
  {
   "cell_type": "code",
   "execution_count": 5,
   "metadata": {},
   "outputs": [
    {
     "name": "stdout",
     "output_type": "stream",
     "text": [
      "[7 4]\n"
     ]
    },
    {
     "data": {
      "image/png": "[encoded data removed]",
      "text/plain": [
       "<Figure size 432x288 with 1 Axes>"
      ]
     },
     "metadata": {
      "needs_background": "light"
     },
     "output_type": "display_data"
    }
   ],
   "source": [
    "%matplotlib inline\n",
    "from basis import Basis\n",
    "\n",
    "standard_basis = Basis([1, 0], [0, 1])\n",
    "standard_point = standard_basis.coordinate([7, 4])\n",
    "print(standard_point)\n",
    "\n",
    "standard_basis.plot_coordinate([7, 4])"
   ]
  },
  {
   "cell_type": "markdown",
   "metadata": {},
   "source": [
    "## 例2 別の基底\n",
    "\n",
    "基底 $ \\{(1, 0), (1, 1)\\} $から作られる座標平面について考えてみる。以下のように右斜め45°歪めたイメージとなる。\n",
    "\n",
    "この基底についての座標として$(3, 4)$を取ってみた。\n",
    "\n",
    "この座標を直交座標系、つまり標準基底から作られる平面の座標に置き換えると、\n",
    "\n",
    "$ 3(1, 0) + 4(1, 1) = (7, 4) $となる。"
   ]
  },
  {
   "cell_type": "code",
   "execution_count": 3,
   "metadata": {
    "scrolled": false
   },
   "outputs": [
    {
     "name": "stdout",
     "output_type": "stream",
     "text": [
      "[7 4]\n"
     ]
    },
    {
     "data": {
      "image/png": "[encoded data removed]",
      "text/plain": [
       "<Figure size 432x288 with 1 Axes>"
      ]
     },
     "metadata": {
      "needs_background": "light"
     },
     "output_type": "display_data"
    }
   ],
   "source": [
    "another_basis = Basis([1, 0], [1, 1])\n",
    "another_point = another_basis.coordinate([3, 4])\n",
    "print(another_point)\n",
    "\n",
    "another_basis.plot_coordinate([3, 4])"
   ]
  },
  {
   "cell_type": "markdown",
   "metadata": {},
   "source": [
    "標準基底の座標にこの点を置いてみると重なることがわかる。"
   ]
  },
  {
   "cell_type": "code",
   "execution_count": 4,
   "metadata": {},
   "outputs": [
    {
     "data": {
      "text/plain": [
       "[<matplotlib.lines.Line2D at 0x15fa4550>]"
      ]
     },
     "execution_count": 4,
     "metadata": {},
     "output_type": "execute_result"
    },
    {
     "data": {
      "image/png": "[encoded data removed]",
      "text/plain": [
       "<Figure size 432x288 with 1 Axes>"
      ]
     },
     "metadata": {
      "needs_background": "light"
     },
     "output_type": "display_data"
    }
   ],
   "source": [
    "import matplotlib.pyplot as plt\n",
    "\n",
    "standard_basis.plot_coordinate(standard_point)\n",
    "plt.plot(*another_point, marker=\"x\")"
   ]
  },
  {
   "cell_type": "markdown",
   "metadata": {},
   "source": [
    "## 係数を座標とすることの便利なところ\n",
    "\n",
    "ある位置を係数で表現するというところが肝である。ある基底をベースとしてその線形結合の話を展開するのであれば、係数で語ることができる。\n",
    "\n",
    "3Dゲーム開発ではさまざま基準で位置を把握するためにワールド座標系、カメラ座標系、オブジェクト座標系、スクリーン座標系などと言われている「座標系」があるが、座標系とは(順序付けられた)基底のことである。これはいわば「カメラ基底」「オブジェクト基底」「スクリーン基底」など言えるような基底があるということだ。\n",
    "\n",
    "3D空間での位置を、ある基底をベースとしてその線形結合の係数で表現する。係数を使って計算することで、その基底をベースとした動きを実現できる。"
   ]
  },
  {
   "cell_type": "markdown",
   "metadata": {},
   "source": [
    "# 座標とフーリエ変換\n",
    "\n",
    "フーリエ級数の各三角関数が**周期関数全体の基底**と言えそうで、フーリエ係数が**座標**と言える的な。\n",
    "\n",
    "つまりフーリエ変換は座標を求めているというとなんかわかりやすい感じに聞こえる(うさんくさい)\n",
    "\n",
    "というかフーリエ級数を理解していない。"
   ]
  }
 ],
 "metadata": {
  "kernelspec": {
   "display_name": "Python 3",
   "language": "python",
   "name": "python3"
  },
  "language_info": {
   "codemirror_mode": {
    "name": "ipython",
    "version": 3
   },
   "file_extension": ".py",
   "mimetype": "text/x-python",
   "name": "python",
   "nbconvert_exporter": "python",
   "pygments_lexer": "ipython3",
   "version": "3.8.3"
  }
 },
 "nbformat": 4,
 "nbformat_minor": 4
}
