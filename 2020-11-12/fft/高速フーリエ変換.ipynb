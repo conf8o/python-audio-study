{
 "cells": [
  {
   "cell_type": "markdown",
   "metadata": {},
   "source": [
    "## 離散フーリエ変換\n",
    "\n",
    "複素平面ストップウォッチ$F_k(t) = (\\omega^{k})^t(\\omega^k = \\mathrm{e}^{2\\pi\\mathrm{i}/n\\cdot{k}})$と$n$要素のベクトルとして格納されている信号${\\bf s}$の関係を表す下記方程式(参照 /2020-11-12/stopwatch/正弦波の重み付き和としての信号.ipynb\n",
    ")について考察する。\n",
    "\n",
    "$\n",
    "\\left(\n",
    "    \\begin{array}{c|c|c|c|c}\n",
    "        F_0(0) & F_1(0) & F_2(0) &  & F_{n-1}(0) \\\\\n",
    "        F_0(1) & F_1(1) & F_2(1) &  & F_{n-1}(1) \\\\\n",
    "        F_0(2) & F_1(2) & F_2(2) & \\ldots & F_{n-1}(2) \\\\\n",
    "        \\vdots & \\vdots & \\vdots &  & \\vdots \\\\\n",
    "        F_0(n-1) & F_1(n-1) & F_2(n-1) &  & F_{n-1}(n-1)\n",
    "    \\end{array}\n",
    "\\right)\n",
    "\\left(\n",
    "    \\begin{array}{c}\n",
    "        z_0 \\\\\n",
    "        z_1 \\\\\n",
    "        z_2 \\\\\n",
    "        \\vdots \\\\\n",
    "        z_{n-1}\n",
    "    \\end{array}\n",
    "\\right)\n",
    "= \\left(\n",
    "    \\begin{array}{c}\n",
    "        f(0) \\\\\n",
    "        f(1) \\\\\n",
    "        f(2) \\\\\n",
    "        \\vdots \\\\\n",
    "        f(n-1)\n",
    "    \\end{array}\n",
    "\\right)\n",
    "= {\\bf s}\n",
    "$\n",
    "\n",
    "左辺の行列をここではフーリエ行列と呼び、$\\mathcal{F}$とする。左辺のベクトルはフーリエ係数と呼ぶ。\n",
    "\n",
    "$\n",
    "\\mathcal{F} =\\left(\n",
    "    \\begin{array}{c|c|c|c|c}\n",
    "        F_0(0) & F_1(0) & F_2(0) &  & F_{n-1}(0) \\\\\n",
    "        F_0(1) & F_1(1) & F_2(1) &  & F_{n-1}(1) \\\\\n",
    "        F_0(2) & F_1(2) & F_2(2) & \\ldots & F_{n-1}(2) \\\\\n",
    "        \\vdots & \\vdots & \\vdots &  & \\vdots \\\\\n",
    "        F_0(n-1) & F_1(n-1) & F_2(n-1) &  & F_{n-1}(n-1)\n",
    "    \\end{array}\n",
    "\\right)\n",
    "$\n",
    "\n",
    "$\\mathcal{F}$の逆行列$\\mathcal{F}^{-1}$を${\\bf s}$に左からかける形で上記方程式を次のように変形する。\n",
    "\n",
    "$\n",
    "\\mathcal{F}^{-1}{\\bf s} \n",
    "= \\left(\n",
    "    \\begin{array}{c}\n",
    "        z_0 \\\\\n",
    "        z_1 \\\\\n",
    "        z_2 \\\\\n",
    "        \\vdots \\\\\n",
    "        z_{n-1}\n",
    "    \\end{array}\n",
    "\\right)\n",
    "$\n",
    "\n",
    "こうすることで信号${\\bf s}$をフーリエ係数に変換することができる。この処理を離散フーリエ変換と呼ぶ。計算量は$O(n^2)$である。この計算量をある制限下で$O(n\\mathrm{log}_2n)$に落とし込むのが高速フーリエ変換である。"
   ]
  },
  {
   "cell_type": "markdown",
   "metadata": {},
   "source": [
    "## 高速フーリエ変換\n",
    "\n",
    "その制限とは\n",
    "\n",
    "* $n$が2の累乗であること\n",
    "* $\\omega^n=1$であること($\\omega^k = \\mathrm{e}^{-2\\pi\\mathrm{i}/n\\cdot{k}}$)\n",
    "\n",
    "$\n",
    "\\mathcal{F}^{-1} = \\left(\n",
    "    \\begin{array}{c|c|c|c|c}\n",
    "        \\omega^{0\\cdot0} & \\omega^{0\\cdot1} & \\omega^{0\\cdot2} &  & \\omega^{0\\cdot(n-1)} \\\\\n",
    "        \\omega^{1\\cdot0} & \\omega^{1\\cdot1} & \\omega^{1\\cdot2} &  & \\omega^{1\\cdot(n-1)} \\\\\n",
    "        \\omega^{2\\cdot0} & \\omega^{2\\cdot1} & \\omega^{2\\cdot2} & \\ldots & \\omega^{2\\cdot(n-1)} \\\\\n",
    "        \\vdots & \\vdots & \\vdots &  & \\vdots \\\\\n",
    "        \\omega^{(n-1)\\cdot0} & \\omega^{(n-1)\\cdot1} & \\omega^{(n-1)\\cdot2} &  & \\omega^{(n-1)\\cdot(n-1)} \\\\\n",
    "    \\end{array}\n",
    "\\right)\n",
    "$\n",
    "\n",
    "フーリエ係数の要素は次のような多項式の値として捉えることができる。\n",
    "\n",
    "先に例を示す。\n",
    "\n",
    "$\n",
    "z_0 = {\\bf s}_0 + {\\bf s}_1\\omega^0 + {\\bf s}_2(\\omega^0)^2 + \\ldots + {\\bf s}_{n-1}(\\omega^0)^{n-1}\n",
    "$\n",
    "\n",
    "信号ベクトル${\\bf s}$を、複素平面ストップウォッチからフーリエ係数への多項式関数$s$と定義できる。\n",
    "\n",
    "$\n",
    "s(x) = {\\bf s}_0 + {\\bf s}_1x + {\\bf s}_2x^2 + \\ldots + {\\bf s}_{n-1}x^{n-1}\n",
    "$\n",
    "\n",
    "例えば$z_0 = s(\\omega^0)$である。\n",
    "\n",
    "次に、$s$を偶数番目と奇数番目で分けてそれぞれの多項式関数を考える。\n",
    "\n",
    "$\n",
    "s_{even}(x) = {\\bf s}_0 + {\\bf s}_2x + {\\bf s}_4x^2 + \\ldots + {{\\bf s}_{n-2}}^{\\frac {n-2} 2\n",
    "}$\n",
    "\n",
    "$\n",
    "s_{odd}(x) = {\\bf s}_1 + {\\bf s}_3x + {\\bf s}_5x^2 + \\ldots + {{\\bf s}_{n-1}}^{\\frac {n-2} 2\n",
    "}$\n",
    "\n",
    "すると$s(x)$は次のような式として得られる。\n",
    "\n",
    "$\n",
    "s(x) = s_{even}(x^2) + x \\cdot s_{odd}(x^2)\n",
    "$"
   ]
  },
  {
   "cell_type": "markdown",
   "metadata": {},
   "source": [
    "## フーリエ係数を求める式まとめ\n",
    "\n",
    "$z_0 = s(\\omega^0) = s_{even}((\\omega^0)^2) + \\omega^0s_{odd}((\\omega^0)^2)$\n",
    "\n",
    "$z_1 = s(\\omega^1) = s_{even}((\\omega^1)^2) + \\omega^1s_{odd}((\\omega^1)^2)$\n",
    "\n",
    "$z_2 = s(\\omega^2) = s_{even}((\\omega^2)^2) + \\omega^2s_{odd}((\\omega^2)^2)$\n",
    "\n",
    "$\\vdots$\n",
    "\n",
    "$z_{n-1} = s(\\omega^{n-1}) = s_{even}((\\omega^{n-1})^2) + \\omega^{n-1}s_{odd}((\\omega^{n-1})^2)$"
   ]
  },
  {
   "cell_type": "markdown",
   "metadata": {},
   "source": [
    "$\\omega^n = 1$なので以下のような式が成り立つ。\n",
    "\n",
    "$(\\omega^0)^2 = (\\omega^0)^2(\\omega^{\\frac n 2})^2 = (\\omega^{0+{\\frac n 2}})^2 = (\\omega^{\\frac n 2})^2$\n",
    "\n",
    "$(\\omega^1)^2 = (\\omega^1)^2(\\omega^{\\frac n 2})^2 = (\\omega^{1+{\\frac n 2}})^2 = (\\omega^{{\\frac n 2} + 1})^2$\n",
    "\n",
    "$(\\omega^2)^2 = (\\omega^2)^2(\\omega^{\\frac n 2})^2 = (\\omega^{2+{\\frac n 2}})^2 = (\\omega^{{\\frac n 2} + 2})^2$\n",
    "\n",
    "$\\vdots$\n",
    "\n",
    "$(\\omega^{{\\frac n 2} - 1})^2 = (\\omega^{{\\frac n 2} - 1})^2(\\omega^{\\frac n 2})^2 = (\\omega^{{{\\frac n 2} - 1}+{\\frac n 2}})^2 = (\\omega^{n - 1})^2$\n",
    "\n",
    "よって$s_{even}(x)$と$s_{odd}(x)$を評価する$x$は$(\\omega^0)^2, (\\omega^1)^2, \\ldots, (\\omega^{{\\frac n 2} - 1})^2$の${\\frac n 2}$個で十分ということになる。\n",
    "\n",
    "また、$(\\omega^0)^2, (\\omega^1)^2, \\ldots, (\\omega^{{\\frac n 2} - 1})^2 = (\\omega^2)^0, (\\omega^2)^1, \\ldots, (\\omega^2)^{{\\frac n 2} - 1}$である。\n",
    "\n"
   ]
  },
  {
   "cell_type": "markdown",
   "metadata": {},
   "source": [
    "## 一旦まとめ\n",
    "\n",
    "$\n",
    "\\mathcal{F}^{-1}{\\bf s} \n",
    "= \\left(\n",
    "    \\begin{array}{c}\n",
    "        z_0 \\\\\n",
    "        z_1 \\\\\n",
    "        z_2 \\\\\n",
    "        \\vdots \\\\\n",
    "        z_{\\frac n 2} \\\\\n",
    "        z_{{\\frac n 2}+1} \\\\\n",
    "        z_{{\\frac n 2}+2} \\\\\n",
    "        \\vdots \\\\\n",
    "        z_{n-1}\n",
    "    \\end{array}\n",
    "\\right)\n",
    "= \\left(\n",
    "    \\begin{array}{c}\n",
    "        s_{even}((\\omega^2)^0) + \\omega^0s_{odd}((\\omega^2)^0) \\\\\n",
    "        s_{even}((\\omega^2)^1) + \\omega^1s_{odd}((\\omega^2)^1) \\\\\n",
    "        s_{even}((\\omega^2)^2) + \\omega^2s_{odd}((\\omega^2)^2) \\\\\n",
    "        \\vdots \\\\\n",
    "        s_{even}((\\omega^2)^0) + \\omega^{\\frac n 2}s_{odd}((\\omega^2)^0) \\\\\n",
    "        s_{even}((\\omega^2)^1) + \\omega^{{\\frac n 2}+1}s_{odd}((\\omega^2)^1) \\\\\n",
    "        s_{even}((\\omega^2)^2) + \\omega^{{\\frac n 2}+2}s_{odd}((\\omega^2)^2) \\\\\n",
    "        \\vdots \\\\\n",
    "        s_{even}((\\omega^2)^{{\\frac n 2} - 1}) + \\omega^{n - 1}s_{odd}((\\omega^2)^{{\\frac n 2} - 1})\n",
    "    \\end{array}\n",
    "\\right)\n",
    "$"
   ]
  },
  {
   "cell_type": "markdown",
   "metadata": {},
   "source": [
    "各$s_{even}$と$s_{odd}$はそれぞれ`fft(w*w, s[::2])`と`fft(w*w, s[1::2])`で求められるので以降再帰的に処理できる(いまだによくわかっていないのでテキトー)\n",
    "\n",
    "以下実装"
   ]
  },
  {
   "cell_type": "code",
   "execution_count": 1,
   "metadata": {},
   "outputs": [
    {
     "data": {
      "text/plain": [
       "[<matplotlib.lines.Line2D at 0x14d4c7c0>]"
      ]
     },
     "execution_count": 1,
     "metadata": {},
     "output_type": "execute_result"
    },
    {
     "data": {
      "image/png": "[encoded data removed]",
      "text/plain": [
       "<Figure size 432x288 with 1 Axes>"
      ]
     },
     "metadata": {
      "needs_background": "light"
     },
     "output_type": "display_data"
    }
   ],
   "source": [
    "%matplotlib inline\n",
    "\n",
    "import numpy as np\n",
    "import matplotlib.pyplot as plt\n",
    "\n",
    "# fft.py\n",
    "from fft import fft\n",
    "\n",
    "# 合成波のサンプルは(https://tips-memo.com/python-fft)より\n",
    "\n",
    "# データ長\n",
    "n = 128\n",
    "x = np.arange(n)\n",
    "\n",
    "# 周期\n",
    "t1 = 10\n",
    "t2 = 20\n",
    "t3 = 30\n",
    "\n",
    "s = sum(np.sin(t * x * 2 * np.pi / n) for t in [10, 20, 30])\n",
    "\n",
    "plt.plot(s)"
   ]
  },
  {
   "cell_type": "code",
   "execution_count": 2,
   "metadata": {},
   "outputs": [
    {
     "data": {
      "text/plain": [
       "[<matplotlib.lines.Line2D at 0x15de2ee0>]"
      ]
     },
     "execution_count": 2,
     "metadata": {},
     "output_type": "execute_result"
    },
    {
     "data": {
      "image/png": "[encoded data removed]",
      "text/plain": [
       "<Figure size 432x288 with 1 Axes>"
      ]
     },
     "metadata": {
      "needs_background": "light"
     },
     "output_type": "display_data"
    }
   ],
   "source": [
    "w = np.exp(-1j * 2*np.pi / n)\n",
    "\n",
    "# fft.py\n",
    "F = fft(w, s)\n",
    "F_abs = np.abs(F)[:n//2]\n",
    "plt.plot(F_abs)"
   ]
  },
  {
   "cell_type": "code",
   "execution_count": 3,
   "metadata": {},
   "outputs": [
    {
     "data": {
      "text/plain": [
       "[<matplotlib.lines.Line2D at 0x15e22b68>]"
      ]
     },
     "execution_count": 3,
     "metadata": {},
     "output_type": "execute_result"
    },
    {
     "data": {
      "image/png": "[encoded data removed]",
      "text/plain": [
       "<Figure size 432x288 with 1 Axes>"
      ]
     },
     "metadata": {
      "needs_background": "light"
     },
     "output_type": "display_data"
    }
   ],
   "source": [
    "#numpyと比較\n",
    "\n",
    "F = np.fft.fft(s)\n",
    "F_abs = np.abs(F)[:n//2]\n",
    "plt.plot(F_abs)"
   ]
  },
  {
   "cell_type": "code",
   "execution_count": null,
   "metadata": {},
   "outputs": [],
   "source": []
  }
 ],
 "metadata": {
  "kernelspec": {
   "display_name": "Python 3",
   "language": "python",
   "name": "python3"
  },
  "language_info": {
   "codemirror_mode": {
    "name": "ipython",
    "version": 3
   },
   "file_extension": ".py",
   "mimetype": "text/x-python",
   "name": "python",
   "nbconvert_exporter": "python",
   "pygments_lexer": "ipython3",
   "version": "3.8.3"
  }
 },
 "nbformat": 4,
 "nbformat_minor": 4
}
