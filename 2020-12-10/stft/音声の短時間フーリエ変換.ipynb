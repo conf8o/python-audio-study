{
 "cells": [
  {
   "cell_type": "code",
   "execution_count": 1,
   "metadata": {},
   "outputs": [],
   "source": [
    "%matplotlib inline"
   ]
  },
  {
   "cell_type": "code",
   "execution_count": 2,
   "metadata": {},
   "outputs": [
    {
     "ename": "FileNotFoundError",
     "evalue": "[Errno 2] No such file or directory: '../resources/ah_16k.wav'",
     "output_type": "error",
     "traceback": [
      "\u001b[1;31m---------------------------------------------------------------------------\u001b[0m",
      "\u001b[1;31mFileNotFoundError\u001b[0m                         Traceback (most recent call last)",
      "\u001b[1;32m<ipython-input-2-31c7093f0444>\u001b[0m in \u001b[0;36m<module>\u001b[1;34m\u001b[0m\n\u001b[0;32m      7\u001b[0m \u001b[1;33m\u001b[0m\u001b[0m\n\u001b[0;32m      8\u001b[0m \u001b[0mfile_name\u001b[0m \u001b[1;33m=\u001b[0m \u001b[1;34m\"../resources/ah_16k.wav\"\u001b[0m\u001b[1;33m\u001b[0m\u001b[1;33m\u001b[0m\u001b[0m\n\u001b[1;32m----> 9\u001b[1;33m \u001b[0mah\u001b[0m \u001b[1;33m=\u001b[0m \u001b[0maudio\u001b[0m\u001b[1;33m.\u001b[0m\u001b[0mAudio\u001b[0m\u001b[1;33m(\u001b[0m\u001b[1;33m*\u001b[0m\u001b[0mwav\u001b[0m\u001b[1;33m.\u001b[0m\u001b[0mread\u001b[0m\u001b[1;33m(\u001b[0m\u001b[0mfile_name\u001b[0m\u001b[1;33m)\u001b[0m\u001b[1;33m)\u001b[0m\u001b[1;33m\u001b[0m\u001b[1;33m\u001b[0m\u001b[0m\n\u001b[0m",
      "\u001b[1;32mc:\\users\\3h18078\\appdata\\local\\programs\\python\\python38-32\\lib\\site-packages\\scipy\\io\\wavfile.py\u001b[0m in \u001b[0;36mread\u001b[1;34m(filename, mmap)\u001b[0m\n\u001b[0;32m    542\u001b[0m         \u001b[0mmmap\u001b[0m \u001b[1;33m=\u001b[0m \u001b[1;32mFalse\u001b[0m\u001b[1;33m\u001b[0m\u001b[1;33m\u001b[0m\u001b[0m\n\u001b[0;32m    543\u001b[0m     \u001b[1;32melse\u001b[0m\u001b[1;33m:\u001b[0m\u001b[1;33m\u001b[0m\u001b[1;33m\u001b[0m\u001b[0m\n\u001b[1;32m--> 544\u001b[1;33m         \u001b[0mfid\u001b[0m \u001b[1;33m=\u001b[0m \u001b[0mopen\u001b[0m\u001b[1;33m(\u001b[0m\u001b[0mfilename\u001b[0m\u001b[1;33m,\u001b[0m \u001b[1;34m'rb'\u001b[0m\u001b[1;33m)\u001b[0m\u001b[1;33m\u001b[0m\u001b[1;33m\u001b[0m\u001b[0m\n\u001b[0m\u001b[0;32m    545\u001b[0m \u001b[1;33m\u001b[0m\u001b[0m\n\u001b[0;32m    546\u001b[0m     \u001b[1;32mtry\u001b[0m\u001b[1;33m:\u001b[0m\u001b[1;33m\u001b[0m\u001b[1;33m\u001b[0m\u001b[0m\n",
      "\u001b[1;31mFileNotFoundError\u001b[0m: [Errno 2] No such file or directory: '../resources/ah_16k.wav'"
     ]
    }
   ],
   "source": [
    "import numpy as np\n",
    "import matplotlib.pyplot as plt\n",
    "import scipy.io.wavfile as wav \n",
    "\n",
    "# audio.py\n",
    "import audio\n",
    "\n",
    "file_name = \"../resources/ah_16k.wav\"\n",
    "ah = audio.Audio(*wav.read(file_name))"
   ]
  },
  {
   "cell_type": "code",
   "execution_count": null,
   "metadata": {},
   "outputs": [],
   "source": [
    "ah.plot()"
   ]
  },
  {
   "cell_type": "markdown",
   "metadata": {},
   "source": [
    "## 音声の短時間フーリエ変換\n",
    "\n",
    "一般的に音声の音素は30msくらい。音素の音響的な特徴は前後の音素にも左右されるので10msぐらいにとると特徴を取得できそう。(切り取ったものをフレームと呼ぶ。その長さをフレーム長と呼ぶ。)\n",
    "\n",
    "で、それぞれでフーリエ変換を行う。\n",
    "\n",
    "矩形窓でフレーム長10msとっても両端が不連続な関数だとフーリエ変換は高周波に雑音が残るので、両端が減衰する窓関数を使う。ここではハミング窓を使う。\n",
    "\n",
    "ハミング窓のフレーム長は20msから80ms程度が一般的に使われる。切り取る際は、10msずらしながら切り取っていく。各フレームは両端部分が近隣のフレームとある程度共有している。"
   ]
  },
  {
   "cell_type": "code",
   "execution_count": null,
   "metadata": {},
   "outputs": [],
   "source": [
    "# フレーム長\n",
    "ms = list(audio.frame_candidates(ah.rate))[-1]\n",
    "\n",
    "# ハミング窓\n",
    "hamming = audio.audio_hamming(ms, ah.rate)\n",
    "\n",
    "# FFT用の要素数(2のべき乗)\n",
    "n = len(hamming)\n",
    "\n",
    "# 周波数軸\n",
    "freqs = np.fft.fftfreq(n, d=1/ah.rate)[:n//2]"
   ]
  },
  {
   "cell_type": "code",
   "execution_count": null,
   "metadata": {},
   "outputs": [],
   "source": [
    "def stft(a, frame_length, step_length, window):\n",
    "    \"\"\"短時間フーリエ変換\n",
    "    \n",
    "    step_length(ms)ごとに、オーディオデータ(a)をフレーム長(frame_length(ms))の範囲で切り取っていき、\n",
    "    それぞれに窓関数(window)を適用し、高速フーリエ変換する。\n",
    "    \"\"\"\n",
    "    \n",
    "    for frame in a.each_frame(frame_length, step_length):\n",
    "        windowed = frame * window\n",
    "        ffted = np.fft.fft(windowed, norm=\"ortho\")[:n//2]\n",
    "        \n",
    "        yield np.abs(ffted)"
   ]
  },
  {
   "cell_type": "code",
   "execution_count": null,
   "metadata": {},
   "outputs": [],
   "source": [
    "fted_frames = list(stft(ah, ms, 10, hamming))\n",
    "\n",
    "# 真ん中のやつ見てみる。\n",
    "mid = fted_frames[len(fted_frames)//2]\n",
    "plt.plot(freqs, mid)"
   ]
  },
  {
   "cell_type": "code",
   "execution_count": null,
   "metadata": {},
   "outputs": [],
   "source": []
  }
 ],
 "metadata": {
  "kernelspec": {
   "display_name": "Python 3",
   "language": "python",
   "name": "python3"
  },
  "language_info": {
   "codemirror_mode": {
    "name": "ipython",
    "version": 3
   },
   "file_extension": ".py",
   "mimetype": "text/x-python",
   "name": "python",
   "nbconvert_exporter": "python",
   "pygments_lexer": "ipython3",
   "version": "3.8.3"
  }
 },
 "nbformat": 4,
 "nbformat_minor": 4
}
