{
 "cells": [
  {
   "cell_type": "markdown",
   "metadata": {},
   "source": [
    "# 音圧とレベル表現\n",
    "\n",
    "音圧という物理量がある。単位はパスカル(Pa)\n",
    "\n",
    "音圧が$p$のときの音圧**レベル**(sound presure level, SPL)$L_p$はその対数をとる。\n",
    "\n",
    "$\n",
    "L_p = 10 \\times \\mathrm{log}_{10} \\frac{p^2}{p^2_0} = 20 \\times \\mathrm{log}_{10}\\frac{p}{p_0}\n",
    "$\n",
    "\n",
    "$p_0$は人間が聞こえる最も小さい音の音圧$20\\times10^6$(Pa)。\n",
    "\n",
    "音圧レベルの単位はデシベル(dB)\n",
    "\n",
    "### (レベル表現とは)\n",
    "\n",
    "物理量に対するレベル(強さ)を表現するとき、常用対数($\\mathrm{log}_{10}x$)をよく使う。\n",
    "\n",
    "これは、人間が感じる心理的な感覚量は、刺激の強度(物理量)ではなく、その対数に比例して知覚されるという**ヴェーバー-フェヒナーの法則**から。\n",
    "\n",
    "以下のレベル表現は物理量に対する常用対数をとっている。\n",
    "\n",
    "* 音圧レベル\n",
    "* 音の高さ\n",
    "* 震度\n",
    "* 星の等級\n",
    "\n",
    "など"
   ]
  },
  {
   "cell_type": "code",
   "execution_count": 1,
   "metadata": {},
   "outputs": [],
   "source": [
    "%matplotlib inline\n",
    "import numpy as np\n",
    "import matplotlib.pyplot as plt"
   ]
  },
  {
   "cell_type": "code",
   "execution_count": 15,
   "metadata": {},
   "outputs": [
    {
     "data": {
      "image/png": "[encoded data removed]",
      "text/plain": [
       "<Figure size 432x288 with 1 Axes>"
      ]
     },
     "metadata": {
      "needs_background": "light"
     },
     "output_type": "display_data"
    }
   ],
   "source": [
    "from SPL import spl\n",
    "\n",
    "def plot_spl():\n",
    "    xs = np.linspace(20 * 10**6, 1000 * 10**6, 10000)\n",
    "    levels = np.array([*map(spl, xs)])\n",
    "    \n",
    "    plt.plot(levels)\n",
    "    \n",
    "plot_spl()"
   ]
  },
  {
   "cell_type": "code",
   "execution_count": null,
   "metadata": {},
   "outputs": [],
   "source": []
  }
 ],
 "metadata": {
  "kernelspec": {
   "display_name": "Python 3",
   "language": "python",
   "name": "python3"
  },
  "language_info": {
   "codemirror_mode": {
    "name": "ipython",
    "version": 3
   },
   "file_extension": ".py",
   "mimetype": "text/x-python",
   "name": "python",
   "nbconvert_exporter": "python",
   "pygments_lexer": "ipython3",
   "version": "3.9.0"
  }
 },
 "nbformat": 4,
 "nbformat_minor": 4
}
